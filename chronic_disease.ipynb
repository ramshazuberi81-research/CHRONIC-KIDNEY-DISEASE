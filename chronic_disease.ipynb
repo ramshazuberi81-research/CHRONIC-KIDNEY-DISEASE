{
 "cells": [
  {
   "cell_type": "code",
   "execution_count": 2,
   "id": "6ca90d7d-af32-4cc9-90d1-4a0031da76bb",
   "metadata": {},
   "outputs": [
    {
     "name": "stdout",
     "output_type": "stream",
     "text": [
      "Defaulting to user installation because normal site-packages is not writeable\n",
      "Looking in links: /usr/share/pip-wheels\n",
      "Requirement already satisfied: scipy in /opt/conda/envs/anaconda-panel-2023.05-py310/lib/python3.11/site-packages (1.11.1)\n",
      "Requirement already satisfied: numpy<1.28.0,>=1.21.6 in /opt/conda/envs/anaconda-panel-2023.05-py310/lib/python3.11/site-packages (from scipy) (1.24.3)\n",
      "Note: you may need to restart the kernel to use updated packages.\n"
     ]
    }
   ],
   "source": [
    "pip install scipy"
   ]
  },
  {
   "cell_type": "code",
   "execution_count": 5,
   "id": "2e12efc7-372c-48dc-86be-43bf05fb6f98",
   "metadata": {},
   "outputs": [],
   "source": [
    "import pandas as pd \n",
    "import numpy as np\n",
    "import scipy as sp \n",
    "import matplotlib as plt \n",
    "import seaborn as sns \n"
   ]
  },
  {
   "cell_type": "code",
   "execution_count": 9,
   "id": "45b18dec-5a4a-4294-b859-a0431e146b47",
   "metadata": {},
   "outputs": [
    {
     "name": "stdout",
     "output_type": "stream",
     "text": [
      "   age   bp     sg  al  su  bgr   bu    sc  sod  pot  hemo    wc   rc  htn  \\\n",
      "0   58   73  1.017   1   4  104   21  2.93  130  5.3  13.4  6953  4.8  yes   \n",
      "1   71   82  1.019   1   3  150   83  1.96  143  5.2   9.8  5708  5.0   no   \n",
      "2   48  119  1.023   2   3  159   25  4.56  126  3.9  10.7  7472  4.6   no   \n",
      "3   34  116  1.017   4   3   77  111  2.89  139  5.7  12.0  6969  4.7  yes   \n",
      "4   62   99  1.011   0   4  162  126  4.26  135  4.7  10.0  7028  5.1  yes   \n",
      "\n",
      "    dm classification  \n",
      "0   no            ckd  \n",
      "1   no         notckd  \n",
      "2  yes         notckd  \n",
      "3  yes         notckd  \n",
      "4   no         notckd  \n"
     ]
    }
   ],
   "source": [
    "chronic_disease=pd.read_csv(\"chronic disease.csv\")\n",
    "print(chronic_disease.head())\n"
   ]
  },
  {
   "cell_type": "code",
   "execution_count": 14,
   "id": "5338502f-b409-43ab-b2e0-cc6db33dd7f8",
   "metadata": {
    "scrolled": true
   },
   "outputs": [
    {
     "name": "stdout",
     "output_type": "stream",
     "text": [
      "<class 'pandas.core.frame.DataFrame'>\n",
      "RangeIndex: 100 entries, 0 to 99\n",
      "Data columns (total 16 columns):\n",
      " #   Column          Non-Null Count  Dtype  \n",
      "---  ------          --------------  -----  \n",
      " 0   age             100 non-null    int64  \n",
      " 1   bp              100 non-null    int64  \n",
      " 2   sg              100 non-null    float64\n",
      " 3   al              100 non-null    int64  \n",
      " 4   su              100 non-null    int64  \n",
      " 5   bgr             100 non-null    int64  \n",
      " 6   bu              100 non-null    int64  \n",
      " 7   sc              100 non-null    float64\n",
      " 8   sod             100 non-null    int64  \n",
      " 9   pot             100 non-null    float64\n",
      " 10  hemo            100 non-null    float64\n",
      " 11  wc              100 non-null    int64  \n",
      " 12  rc              100 non-null    float64\n",
      " 13  htn             100 non-null    object \n",
      " 14  dm              100 non-null    object \n",
      " 15  classification  100 non-null    object \n",
      "dtypes: float64(5), int64(8), object(3)\n",
      "memory usage: 12.6+ KB\n",
      "None\n"
     ]
    },
    {
     "data": {
      "text/plain": [
       "age               0\n",
       "bp                0\n",
       "sg                0\n",
       "al                0\n",
       "su                0\n",
       "bgr               0\n",
       "bu                0\n",
       "sc                0\n",
       "sod               0\n",
       "pot               0\n",
       "hemo              0\n",
       "wc                0\n",
       "rc                0\n",
       "htn               0\n",
       "dm                0\n",
       "classification    0\n",
       "dtype: int64"
      ]
     },
     "execution_count": 14,
     "metadata": {},
     "output_type": "execute_result"
    }
   ],
   "source": [
    " print (chronic_disease.info())\n",
    "chronic_disease.isnull().sum()\n"
   ]
  },
  {
   "cell_type": "code",
   "execution_count": 15,
   "id": "25536599-752e-47f5-9e36-9c53ac43ee23",
   "metadata": {},
   "outputs": [
    {
     "name": "stdout",
     "output_type": "stream",
     "text": [
      "              age          bp          sg          al          su         bgr  \\\n",
      "count  100.000000  100.000000  100.000000  100.000000  100.000000  100.000000   \n",
      "mean    49.580000   89.070000    1.015420    1.880000    2.240000  137.720000   \n",
      "std     18.031499   16.811645    0.005689    1.430406    1.436325   38.512514   \n",
      "min     21.000000   60.000000    1.005000    0.000000    0.000000   70.000000   \n",
      "25%     34.000000   74.000000    1.010000    1.000000    1.000000  105.000000   \n",
      "50%     48.000000   90.000000    1.015000    2.000000    2.500000  141.500000   \n",
      "75%     66.000000  101.250000    1.020250    3.000000    4.000000  174.000000   \n",
      "max     79.000000  119.000000    1.025000    4.000000    4.000000  197.000000   \n",
      "\n",
      "               bu          sc         sod         pot        hemo  \\\n",
      "count  100.000000  100.000000  100.000000  100.000000  100.000000   \n",
      "mean    77.240000    3.882600  133.470000    4.725000   11.391000   \n",
      "std     39.231023    1.984673    5.751513    0.692729    2.106512   \n",
      "min     10.000000    0.520000  125.000000    3.500000    7.300000   \n",
      "25%     43.000000    2.195000  129.000000    4.100000    9.775000   \n",
      "50%     79.500000    3.965000  132.500000    4.700000   11.450000   \n",
      "75%    108.500000    5.380000  138.000000    5.325000   13.200000   \n",
      "max    147.000000    7.480000  144.000000    6.000000   14.900000   \n",
      "\n",
      "                 wc          rc  \n",
      "count    100.000000  100.000000  \n",
      "mean    7990.180000    4.342000  \n",
      "std     2329.762694    0.782921  \n",
      "min     4060.000000    3.000000  \n",
      "25%     5989.750000    3.600000  \n",
      "50%     8005.000000    4.350000  \n",
      "75%     9805.250000    5.100000  \n",
      "max    11982.000000    5.500000  \n",
      "classification\n",
      "notckd    57\n",
      "ckd       43\n",
      "Name: count, dtype: int64\n"
     ]
    }
   ],
   "source": [
    "print(chronic_disease.describe())\n",
    "\n",
    "\n",
    "print(chronic_disease['classification'].value_counts())\n"
   ]
  },
  {
   "cell_type": "code",
   "execution_count": 17,
   "id": "2efdcd92-3ee6-499f-9ca2-456eff2587b5",
   "metadata": {},
   "outputs": [
    {
     "data": {
      "image/png": "[encoded data removed]",
      "text/plain": [
       "<Figure size 640x480 with 1 Axes>"
      ]
     },
     "metadata": {},
     "output_type": "display_data"
    }
   ],
   "source": [
    "import matplotlib.pyplot as plt\n",
    "import seaborn as sns\n",
    "\n",
    "\n",
    "sns.boxplot(x='classification', y='sc', data=chronic_disease)\n",
    "plt.title(\"Serum Creatinine Levels by CKD Classification\")\n",
    "\n",
    "plt.hist(chronic_disease['age'], bins=10, color='skyblue', edgecolor='black')\n",
    "plt.title(\"Age Distribution\")\n",
    "plt.xlabel(\"Age\")\n",
    "plt.ylabel(\"Count\")\n",
    "plt.show()\n"
   ]
  },
  {
   "cell_type": "code",
   "execution_count": 27,
   "id": "12eb4ae7-8211-4d69-9cbc-a33b879a810d",
   "metadata": {},
   "outputs": [
    {
     "name": "stdout",
     "output_type": "stream",
     "text": [
      "T-statistic -0.4692388284073478\n",
      "P-value 0.6399412219553038\n"
     ]
    }
   ],
   "source": [
    "from scipy.stats import ttest_ind\n",
    "\n",
    "ckd = chronic_disease[chronic_disease['classification'] == 'ckd']['hemo']\n",
    "non_ckd = chronic_disease[chronic_disease['classification'] == 'notckd']['hemo']\n",
    "t_stat, p_val = ttest_ind(ckd.dropna(), non_ckd.dropna())\n",
    "\n",
    "\n",
    "\n",
    "print(\"T-statistic\",t_stat)\n",
    "print(\"P-value\",p_val)\n"
   ]
  },
  {
   "cell_type": "code",
   "execution_count": 28,
   "id": "d7861df5-b9df-4fcc-8cff-261cbc39e72d",
   "metadata": {},
   "outputs": [
    {
     "name": "stdout",
     "output_type": "stream",
     "text": [
      "Cohen’s d: -0.09465135511239572\n"
     ]
    }
   ],
   "source": [
    "import numpy as np\n",
    "\n",
    "mean_diff = ckd.mean() - non_ckd.mean()\n",
    "pooled_std = np.sqrt(((ckd.std() ** 2) + (non_ckd.std() ** 2)) / 2)\n",
    "cohens_d = mean_diff / pooled_std\n",
    "print(\"Cohen’s d:\", cohens_d)"
   ]
  },
  {
   "cell_type": "code",
   "execution_count": 29,
   "id": "f08f9b95-4499-44bb-83d1-c080dd26b787",
   "metadata": {},
   "outputs": [
    {
     "name": "stdout",
     "output_type": "stream",
     "text": [
      "Accuracy: 0.4\n",
      "              precision    recall  f1-score   support\n",
      "\n",
      "           0       0.46      0.69      0.55        16\n",
      "           1       0.17      0.07      0.10        14\n",
      "\n",
      "    accuracy                           0.40        30\n",
      "   macro avg       0.31      0.38      0.32        30\n",
      "weighted avg       0.32      0.40      0.34        30\n",
      "\n"
     ]
    }
   ],
   "source": [
    "from sklearn.linear_model import LogisticRegression\n",
    "from sklearn.model_selection import train_test_split\n",
    "from sklearn.metrics import accuracy_score, classification_report\n",
    "\n",
    "X = chronic_disease[['age', 'bp', 'bgr', 'sc', 'hemo']].dropna()\n",
    "y = chronic_disease.loc[X.index, 'classification'].map({'ckd': 1, 'notckd': 0})\n",
    "\n",
    "X_train, X_test, y_train, y_test = train_test_split(X, y, test_size=0.3, random_state=42)\n",
    "model = LogisticRegression(max_iter=1000)\n",
    "model.fit(X_train, y_train)\n",
    "\n",
    "y_pred = model.predict(X_test)\n",
    "print(\"Accuracy:\", accuracy_score(y_test, y_pred))\n",
    "print(classification_report(y_test, y_pred))\n"
   ]
  },
  {
   "cell_type": "code",
   "execution_count": null,
   "id": "c763ee28-bcbe-4da6-b070-6c2937e4cd73",
   "metadata": {},
   "outputs": [],
   "source": []
  }
 ],
 "metadata": {
  "kernelspec": {
   "display_name": "anaconda-panel-2023.05-py310",
   "language": "python",
   "name": "conda-env-anaconda-panel-2023.05-py310-py"
  },
  "language_info": {
   "codemirror_mode": {
    "name": "ipython",
    "version": 3
   },
   "file_extension": ".py",
   "mimetype": "text/x-python",
   "name": "python",
   "nbconvert_exporter": "python",
   "pygments_lexer": "ipython3",
   "version": "3.11.5"
  }
 },
 "nbformat": 4,
 "nbformat_minor": 5
}
